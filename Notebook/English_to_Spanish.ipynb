{
  "nbformat": 4,
  "nbformat_minor": 0,
  "metadata": {
    "colab": {
      "name": "English to Spanish.ipynb",
      "provenance": [],
      "collapsed_sections": []
    },
    "kernelspec": {
      "name": "python3",
      "display_name": "Python 3"
    },
    "language_info": {
      "name": "python"
    },
    "gpuClass": "standard"
  },
  "cells": [
    {
      "cell_type": "markdown",
      "source": [
        "# **Importing the libraries**"
      ],
      "metadata": {
        "id": "WqMbkcwgaWSn"
      }
    },
    {
      "cell_type": "code",
      "execution_count": 1,
      "metadata": {
        "id": "uPwBExxNe5ff"
      },
      "outputs": [],
      "source": [
        "import pandas as pd\n",
        "import numpy as np\n",
        "import matplotlib.pyplot as plt\n",
        "\n",
        "import string\n",
        "from string import digits\n",
        "import re\n",
        "\n",
        "from sklearn.utils import shuffle\n",
        "from sklearn.model_selection import train_test_split\n",
        "from keras.layers import Input, LSTM, Embedding, Dense\n",
        "from keras.models import Model"
      ]
    },
    {
      "cell_type": "markdown",
      "source": [
        "# **Check if the GPU is available on Colab**"
      ],
      "metadata": {
        "id": "0GCxoAL3afG2"
      }
    },
    {
      "cell_type": "code",
      "source": [
        "# %tensorflow_version 2.x\n",
        "# import tensorflow as tf\n",
        "# device_name = tf.test.gpu_device_name()\n",
        "# if device_name != '/device:GPU:0':\n",
        "#   raise SystemError('GPU device not found')\n",
        "# print('Found GPU at: {}'.format(device_name))"
      ],
      "metadata": {
        "id": "btWYgQBlfmCY"
      },
      "execution_count": 2,
      "outputs": []
    },
    {
      "cell_type": "markdown",
      "source": [
        "# **Read Data into a dataframe**"
      ],
      "metadata": {
        "id": "ji1xyU9PalFT"
      }
    },
    {
      "cell_type": "code",
      "source": [
        "data= pd.read_table('spa.txt',  names =['English', 'Spanish', 'Comments'])\n",
        "# data = data[:10000]\n",
        "data.sample(10)"
      ],
      "metadata": {
        "colab": {
          "base_uri": "https://localhost:8080/",
          "height": 363
        },
        "id": "7xIq_w6QfkZm",
        "outputId": "6ebd754e-4bf6-4e7f-a759-35930709abc6"
      },
      "execution_count": 3,
      "outputs": [
        {
          "output_type": "execute_result",
          "data": {
            "text/plain": [
              "                                                  English  \\\n",
              "59853                         The moon has no atmosphere.   \n",
              "75495                      Where is the end of this line?   \n",
              "2122                                         He is tired.   \n",
              "17464                                  Show me that list.   \n",
              "118307       If you want to work here, you need a permit.   \n",
              "120847      Tom warned Mary not to go out at night alone.   \n",
              "37956                             I am taking a bath now.   \n",
              "87016                   My guess is that it'll rain soon.   \n",
              "137412  The bad thing about inferiority complexes is t...   \n",
              "102301              Tom has you to thank for his success.   \n",
              "\n",
              "                                                  Spanish  \\\n",
              "59853                         La Luna no tiene atmósfera.   \n",
              "75495                  ¿Dónde está el final de esta fila?   \n",
              "2122                                     Él está cansado.   \n",
              "17464                                Muéstrame esa lista.   \n",
              "118307    Si quieres trabajar aquí, necesitas un permiso.   \n",
              "120847  Tom le advirtió a María que no fuera sola de n...   \n",
              "37956                       Ahora me estoy dando un baño.   \n",
              "87016                         Supongo que lloverá pronto.   \n",
              "137412  Lo malo de los complejos de inferioridad es qu...   \n",
              "102301            Tom tiene que agradecerte por su éxito.   \n",
              "\n",
              "                                                 Comments  \n",
              "59853   CC-BY 2.0 (France) Attribution: tatoeba.org #1...  \n",
              "75495   CC-BY 2.0 (France) Attribution: tatoeba.org #5...  \n",
              "2122    CC-BY 2.0 (France) Attribution: tatoeba.org #1...  \n",
              "17464   CC-BY 2.0 (France) Attribution: tatoeba.org #2...  \n",
              "118307  CC-BY 2.0 (France) Attribution: tatoeba.org #3...  \n",
              "120847  CC-BY 2.0 (France) Attribution: tatoeba.org #3...  \n",
              "37956   CC-BY 2.0 (France) Attribution: tatoeba.org #2...  \n",
              "87016   CC-BY 2.0 (France) Attribution: tatoeba.org #1...  \n",
              "137412  CC-BY 2.0 (France) Attribution: tatoeba.org #2...  \n",
              "102301  CC-BY 2.0 (France) Attribution: tatoeba.org #1...  "
            ],
            "text/html": [
              "\n",
              "  <div id=\"df-6bb7ee6e-7987-45b8-8d9f-bed3b956115e\">\n",
              "    <div class=\"colab-df-container\">\n",
              "      <div>\n",
              "<style scoped>\n",
              "    .dataframe tbody tr th:only-of-type {\n",
              "        vertical-align: middle;\n",
              "    }\n",
              "\n",
              "    .dataframe tbody tr th {\n",
              "        vertical-align: top;\n",
              "    }\n",
              "\n",
              "    .dataframe thead th {\n",
              "        text-align: right;\n",
              "    }\n",
              "</style>\n",
              "<table border=\"1\" class=\"dataframe\">\n",
              "  <thead>\n",
              "    <tr style=\"text-align: right;\">\n",
              "      <th></th>\n",
              "      <th>English</th>\n",
              "      <th>Spanish</th>\n",
              "      <th>Comments</th>\n",
              "    </tr>\n",
              "  </thead>\n",
              "  <tbody>\n",
              "    <tr>\n",
              "      <th>59853</th>\n",
              "      <td>The moon has no atmosphere.</td>\n",
              "      <td>La Luna no tiene atmósfera.</td>\n",
              "      <td>CC-BY 2.0 (France) Attribution: tatoeba.org #1...</td>\n",
              "    </tr>\n",
              "    <tr>\n",
              "      <th>75495</th>\n",
              "      <td>Where is the end of this line?</td>\n",
              "      <td>¿Dónde está el final de esta fila?</td>\n",
              "      <td>CC-BY 2.0 (France) Attribution: tatoeba.org #5...</td>\n",
              "    </tr>\n",
              "    <tr>\n",
              "      <th>2122</th>\n",
              "      <td>He is tired.</td>\n",
              "      <td>Él está cansado.</td>\n",
              "      <td>CC-BY 2.0 (France) Attribution: tatoeba.org #1...</td>\n",
              "    </tr>\n",
              "    <tr>\n",
              "      <th>17464</th>\n",
              "      <td>Show me that list.</td>\n",
              "      <td>Muéstrame esa lista.</td>\n",
              "      <td>CC-BY 2.0 (France) Attribution: tatoeba.org #2...</td>\n",
              "    </tr>\n",
              "    <tr>\n",
              "      <th>118307</th>\n",
              "      <td>If you want to work here, you need a permit.</td>\n",
              "      <td>Si quieres trabajar aquí, necesitas un permiso.</td>\n",
              "      <td>CC-BY 2.0 (France) Attribution: tatoeba.org #3...</td>\n",
              "    </tr>\n",
              "    <tr>\n",
              "      <th>120847</th>\n",
              "      <td>Tom warned Mary not to go out at night alone.</td>\n",
              "      <td>Tom le advirtió a María que no fuera sola de n...</td>\n",
              "      <td>CC-BY 2.0 (France) Attribution: tatoeba.org #3...</td>\n",
              "    </tr>\n",
              "    <tr>\n",
              "      <th>37956</th>\n",
              "      <td>I am taking a bath now.</td>\n",
              "      <td>Ahora me estoy dando un baño.</td>\n",
              "      <td>CC-BY 2.0 (France) Attribution: tatoeba.org #2...</td>\n",
              "    </tr>\n",
              "    <tr>\n",
              "      <th>87016</th>\n",
              "      <td>My guess is that it'll rain soon.</td>\n",
              "      <td>Supongo que lloverá pronto.</td>\n",
              "      <td>CC-BY 2.0 (France) Attribution: tatoeba.org #1...</td>\n",
              "    </tr>\n",
              "    <tr>\n",
              "      <th>137412</th>\n",
              "      <td>The bad thing about inferiority complexes is t...</td>\n",
              "      <td>Lo malo de los complejos de inferioridad es qu...</td>\n",
              "      <td>CC-BY 2.0 (France) Attribution: tatoeba.org #2...</td>\n",
              "    </tr>\n",
              "    <tr>\n",
              "      <th>102301</th>\n",
              "      <td>Tom has you to thank for his success.</td>\n",
              "      <td>Tom tiene que agradecerte por su éxito.</td>\n",
              "      <td>CC-BY 2.0 (France) Attribution: tatoeba.org #1...</td>\n",
              "    </tr>\n",
              "  </tbody>\n",
              "</table>\n",
              "</div>\n",
              "      <button class=\"colab-df-convert\" onclick=\"convertToInteractive('df-6bb7ee6e-7987-45b8-8d9f-bed3b956115e')\"\n",
              "              title=\"Convert this dataframe to an interactive table.\"\n",
              "              style=\"display:none;\">\n",
              "        \n",
              "  <svg xmlns=\"http://www.w3.org/2000/svg\" height=\"24px\"viewBox=\"0 0 24 24\"\n",
              "       width=\"24px\">\n",
              "    <path d=\"M0 0h24v24H0V0z\" fill=\"none\"/>\n",
              "    <path d=\"M18.56 5.44l.94 2.06.94-2.06 2.06-.94-2.06-.94-.94-2.06-.94 2.06-2.06.94zm-11 1L8.5 8.5l.94-2.06 2.06-.94-2.06-.94L8.5 2.5l-.94 2.06-2.06.94zm10 10l.94 2.06.94-2.06 2.06-.94-2.06-.94-.94-2.06-.94 2.06-2.06.94z\"/><path d=\"M17.41 7.96l-1.37-1.37c-.4-.4-.92-.59-1.43-.59-.52 0-1.04.2-1.43.59L10.3 9.45l-7.72 7.72c-.78.78-.78 2.05 0 2.83L4 21.41c.39.39.9.59 1.41.59.51 0 1.02-.2 1.41-.59l7.78-7.78 2.81-2.81c.8-.78.8-2.07 0-2.86zM5.41 20L4 18.59l7.72-7.72 1.47 1.35L5.41 20z\"/>\n",
              "  </svg>\n",
              "      </button>\n",
              "      \n",
              "  <style>\n",
              "    .colab-df-container {\n",
              "      display:flex;\n",
              "      flex-wrap:wrap;\n",
              "      gap: 12px;\n",
              "    }\n",
              "\n",
              "    .colab-df-convert {\n",
              "      background-color: #E8F0FE;\n",
              "      border: none;\n",
              "      border-radius: 50%;\n",
              "      cursor: pointer;\n",
              "      display: none;\n",
              "      fill: #1967D2;\n",
              "      height: 32px;\n",
              "      padding: 0 0 0 0;\n",
              "      width: 32px;\n",
              "    }\n",
              "\n",
              "    .colab-df-convert:hover {\n",
              "      background-color: #E2EBFA;\n",
              "      box-shadow: 0px 1px 2px rgba(60, 64, 67, 0.3), 0px 1px 3px 1px rgba(60, 64, 67, 0.15);\n",
              "      fill: #174EA6;\n",
              "    }\n",
              "\n",
              "    [theme=dark] .colab-df-convert {\n",
              "      background-color: #3B4455;\n",
              "      fill: #D2E3FC;\n",
              "    }\n",
              "\n",
              "    [theme=dark] .colab-df-convert:hover {\n",
              "      background-color: #434B5C;\n",
              "      box-shadow: 0px 1px 3px 1px rgba(0, 0, 0, 0.15);\n",
              "      filter: drop-shadow(0px 1px 2px rgba(0, 0, 0, 0.3));\n",
              "      fill: #FFFFFF;\n",
              "    }\n",
              "  </style>\n",
              "\n",
              "      <script>\n",
              "        const buttonEl =\n",
              "          document.querySelector('#df-6bb7ee6e-7987-45b8-8d9f-bed3b956115e button.colab-df-convert');\n",
              "        buttonEl.style.display =\n",
              "          google.colab.kernel.accessAllowed ? 'block' : 'none';\n",
              "\n",
              "        async function convertToInteractive(key) {\n",
              "          const element = document.querySelector('#df-6bb7ee6e-7987-45b8-8d9f-bed3b956115e');\n",
              "          const dataTable =\n",
              "            await google.colab.kernel.invokeFunction('convertToInteractive',\n",
              "                                                     [key], {});\n",
              "          if (!dataTable) return;\n",
              "\n",
              "          const docLinkHtml = 'Like what you see? Visit the ' +\n",
              "            '<a target=\"_blank\" href=https://colab.research.google.com/notebooks/data_table.ipynb>data table notebook</a>'\n",
              "            + ' to learn more about interactive tables.';\n",
              "          element.innerHTML = '';\n",
              "          dataTable['output_type'] = 'display_data';\n",
              "          await google.colab.output.renderOutput(dataTable, element);\n",
              "          const docLink = document.createElement('div');\n",
              "          docLink.innerHTML = docLinkHtml;\n",
              "          element.appendChild(docLink);\n",
              "        }\n",
              "      </script>\n",
              "    </div>\n",
              "  </div>\n",
              "  "
            ]
          },
          "metadata": {},
          "execution_count": 3
        }
      ]
    },
    {
      "cell_type": "code",
      "source": [
        "data.English = data.English.apply(lambda word: word.lower())\n",
        "data.Spanish = data.Spanish.apply(lambda word: word.lower())"
      ],
      "metadata": {
        "id": "1TffXhqTfloy"
      },
      "execution_count": 4,
      "outputs": []
    },
    {
      "cell_type": "markdown",
      "source": [
        "# **Remove Special characters**"
      ],
      "metadata": {
        "id": "WKRmkSjoayx4"
      }
    },
    {
      "cell_type": "code",
      "source": [
        "data.English = data.English.apply(lambda word: re.sub(\"'\", '', word))\n",
        "data.Spanish = data.Spanish.apply(lambda word: re.sub(\"'\", '', word))"
      ],
      "metadata": {
        "id": "ngiZFrLYf1gV"
      },
      "execution_count": 5,
      "outputs": []
    },
    {
      "cell_type": "code",
      "source": [
        "Punctuations = set(string.punctuation)\n",
        "data.English = data.English.apply(lambda word: ''.join(char for char in word if char not in Punctuations))\n",
        "data.Spanish = data.Spanish.apply(lambda word: ''.join(char for char in word if char not in Punctuations))"
      ],
      "metadata": {
        "id": "6FcuYSPjf4pg"
      },
      "execution_count": 6,
      "outputs": []
    },
    {
      "cell_type": "code",
      "source": [
        "num_digits = str.maketrans('', '', digits)\n",
        "data.English = data.English.apply(lambda x: x.translate(num_digits))\n",
        "data.Spanish = data.Spanish.apply(lambda x: x.translate(num_digits))"
      ],
      "metadata": {
        "id": "BYWTAI3-f7TY"
      },
      "execution_count": 7,
      "outputs": []
    },
    {
      "cell_type": "markdown",
      "source": [
        "# **Remove extra spaces**"
      ],
      "metadata": {
        "id": "GRrPnQoBbFhx"
      }
    },
    {
      "cell_type": "code",
      "source": [
        "data.English = data.English.apply(lambda spaces: spaces.strip())\n",
        "data.Spanish = data.Spanish.apply(lambda spaces: spaces.strip())"
      ],
      "metadata": {
        "id": "OcTD-ZvKf9ZE"
      },
      "execution_count": 8,
      "outputs": []
    },
    {
      "cell_type": "code",
      "source": [
        "data.English=data.English.apply(lambda x: re.sub(\" +\", \" \", x))\n",
        "data.Spanish=data.Spanish.apply(lambda x: re.sub(\" +\", \" \", x))"
      ],
      "metadata": {
        "id": "M9v-ZeSRf_KG"
      },
      "execution_count": 9,
      "outputs": []
    },
    {
      "cell_type": "markdown",
      "source": [
        "# **Add start and end token to target sentence**"
      ],
      "metadata": {
        "id": "JO2QpQQhbLfT"
      }
    },
    {
      "cell_type": "code",
      "source": [
        "data.Spanish = data.Spanish.apply(lambda sentence : 'START_ '+ sentence + ' _END')\n",
        "data.sample(10)"
      ],
      "metadata": {
        "colab": {
          "base_uri": "https://localhost:8080/",
          "height": 363
        },
        "id": "5XpgbcTZgIxF",
        "outputId": "13db63b6-4c61-46f9-f622-526848285f28"
      },
      "execution_count": 10,
      "outputs": [
        {
          "output_type": "execute_result",
          "data": {
            "text/plain": [
              "                                                  English  \\\n",
              "58123                          i expected better from you   \n",
              "14357                                    this is your key   \n",
              "29859                                 its still too early   \n",
              "4207                                         tom got sick   \n",
              "124562     i hope you wont mind if i give you some advice   \n",
              "49788                            please visit me tomorrow   \n",
              "82016                     i thought we were out of coffee   \n",
              "103711              i go to sleep at ten almost every day   \n",
              "136825  we learn from experience that men never learn ...   \n",
              "92148                   tom has no idea why mary did that   \n",
              "\n",
              "                                                  Spanish  \\\n",
              "58123                     START_ esperaba más de vos _END   \n",
              "14357                        START_ ésta es tu llave _END   \n",
              "29859           START_ todavía es demasiado temprano _END   \n",
              "4207                           START_ tom se enfermó _END   \n",
              "124562  START_ espero que no te importe que te dé algu...   \n",
              "49788      START_ por favor venga a visitarme mañana _END   \n",
              "82016           START_ pensé que no nos quedaba café _END   \n",
              "103711  START_ me duermo a las diez casi todos los día...   \n",
              "136825  START_ de la experiencia aprendemos que el hom...   \n",
              "92148   START_ tom no tiene idea de por qué mary hizo ...   \n",
              "\n",
              "                                                 Comments  \n",
              "58123   CC-BY 2.0 (France) Attribution: tatoeba.org #2...  \n",
              "14357   CC-BY 2.0 (France) Attribution: tatoeba.org #4...  \n",
              "29859   CC-BY 2.0 (France) Attribution: tatoeba.org #3...  \n",
              "4207    CC-BY 2.0 (France) Attribution: tatoeba.org #1...  \n",
              "124562  CC-BY 2.0 (France) Attribution: tatoeba.org #7...  \n",
              "49788   CC-BY 2.0 (France) Attribution: tatoeba.org #5...  \n",
              "82016   CC-BY 2.0 (France) Attribution: tatoeba.org #1...  \n",
              "103711  CC-BY 2.0 (France) Attribution: tatoeba.org #1...  \n",
              "136825  CC-BY 2.0 (France) Attribution: tatoeba.org #2...  \n",
              "92148   CC-BY 2.0 (France) Attribution: tatoeba.org #1...  "
            ],
            "text/html": [
              "\n",
              "  <div id=\"df-4b4d4a9a-8090-43dc-9339-ce525317da72\">\n",
              "    <div class=\"colab-df-container\">\n",
              "      <div>\n",
              "<style scoped>\n",
              "    .dataframe tbody tr th:only-of-type {\n",
              "        vertical-align: middle;\n",
              "    }\n",
              "\n",
              "    .dataframe tbody tr th {\n",
              "        vertical-align: top;\n",
              "    }\n",
              "\n",
              "    .dataframe thead th {\n",
              "        text-align: right;\n",
              "    }\n",
              "</style>\n",
              "<table border=\"1\" class=\"dataframe\">\n",
              "  <thead>\n",
              "    <tr style=\"text-align: right;\">\n",
              "      <th></th>\n",
              "      <th>English</th>\n",
              "      <th>Spanish</th>\n",
              "      <th>Comments</th>\n",
              "    </tr>\n",
              "  </thead>\n",
              "  <tbody>\n",
              "    <tr>\n",
              "      <th>58123</th>\n",
              "      <td>i expected better from you</td>\n",
              "      <td>START_ esperaba más de vos _END</td>\n",
              "      <td>CC-BY 2.0 (France) Attribution: tatoeba.org #2...</td>\n",
              "    </tr>\n",
              "    <tr>\n",
              "      <th>14357</th>\n",
              "      <td>this is your key</td>\n",
              "      <td>START_ ésta es tu llave _END</td>\n",
              "      <td>CC-BY 2.0 (France) Attribution: tatoeba.org #4...</td>\n",
              "    </tr>\n",
              "    <tr>\n",
              "      <th>29859</th>\n",
              "      <td>its still too early</td>\n",
              "      <td>START_ todavía es demasiado temprano _END</td>\n",
              "      <td>CC-BY 2.0 (France) Attribution: tatoeba.org #3...</td>\n",
              "    </tr>\n",
              "    <tr>\n",
              "      <th>4207</th>\n",
              "      <td>tom got sick</td>\n",
              "      <td>START_ tom se enfermó _END</td>\n",
              "      <td>CC-BY 2.0 (France) Attribution: tatoeba.org #1...</td>\n",
              "    </tr>\n",
              "    <tr>\n",
              "      <th>124562</th>\n",
              "      <td>i hope you wont mind if i give you some advice</td>\n",
              "      <td>START_ espero que no te importe que te dé algu...</td>\n",
              "      <td>CC-BY 2.0 (France) Attribution: tatoeba.org #7...</td>\n",
              "    </tr>\n",
              "    <tr>\n",
              "      <th>49788</th>\n",
              "      <td>please visit me tomorrow</td>\n",
              "      <td>START_ por favor venga a visitarme mañana _END</td>\n",
              "      <td>CC-BY 2.0 (France) Attribution: tatoeba.org #5...</td>\n",
              "    </tr>\n",
              "    <tr>\n",
              "      <th>82016</th>\n",
              "      <td>i thought we were out of coffee</td>\n",
              "      <td>START_ pensé que no nos quedaba café _END</td>\n",
              "      <td>CC-BY 2.0 (France) Attribution: tatoeba.org #1...</td>\n",
              "    </tr>\n",
              "    <tr>\n",
              "      <th>103711</th>\n",
              "      <td>i go to sleep at ten almost every day</td>\n",
              "      <td>START_ me duermo a las diez casi todos los día...</td>\n",
              "      <td>CC-BY 2.0 (France) Attribution: tatoeba.org #1...</td>\n",
              "    </tr>\n",
              "    <tr>\n",
              "      <th>136825</th>\n",
              "      <td>we learn from experience that men never learn ...</td>\n",
              "      <td>START_ de la experiencia aprendemos que el hom...</td>\n",
              "      <td>CC-BY 2.0 (France) Attribution: tatoeba.org #2...</td>\n",
              "    </tr>\n",
              "    <tr>\n",
              "      <th>92148</th>\n",
              "      <td>tom has no idea why mary did that</td>\n",
              "      <td>START_ tom no tiene idea de por qué mary hizo ...</td>\n",
              "      <td>CC-BY 2.0 (France) Attribution: tatoeba.org #1...</td>\n",
              "    </tr>\n",
              "  </tbody>\n",
              "</table>\n",
              "</div>\n",
              "      <button class=\"colab-df-convert\" onclick=\"convertToInteractive('df-4b4d4a9a-8090-43dc-9339-ce525317da72')\"\n",
              "              title=\"Convert this dataframe to an interactive table.\"\n",
              "              style=\"display:none;\">\n",
              "        \n",
              "  <svg xmlns=\"http://www.w3.org/2000/svg\" height=\"24px\"viewBox=\"0 0 24 24\"\n",
              "       width=\"24px\">\n",
              "    <path d=\"M0 0h24v24H0V0z\" fill=\"none\"/>\n",
              "    <path d=\"M18.56 5.44l.94 2.06.94-2.06 2.06-.94-2.06-.94-.94-2.06-.94 2.06-2.06.94zm-11 1L8.5 8.5l.94-2.06 2.06-.94-2.06-.94L8.5 2.5l-.94 2.06-2.06.94zm10 10l.94 2.06.94-2.06 2.06-.94-2.06-.94-.94-2.06-.94 2.06-2.06.94z\"/><path d=\"M17.41 7.96l-1.37-1.37c-.4-.4-.92-.59-1.43-.59-.52 0-1.04.2-1.43.59L10.3 9.45l-7.72 7.72c-.78.78-.78 2.05 0 2.83L4 21.41c.39.39.9.59 1.41.59.51 0 1.02-.2 1.41-.59l7.78-7.78 2.81-2.81c.8-.78.8-2.07 0-2.86zM5.41 20L4 18.59l7.72-7.72 1.47 1.35L5.41 20z\"/>\n",
              "  </svg>\n",
              "      </button>\n",
              "      \n",
              "  <style>\n",
              "    .colab-df-container {\n",
              "      display:flex;\n",
              "      flex-wrap:wrap;\n",
              "      gap: 12px;\n",
              "    }\n",
              "\n",
              "    .colab-df-convert {\n",
              "      background-color: #E8F0FE;\n",
              "      border: none;\n",
              "      border-radius: 50%;\n",
              "      cursor: pointer;\n",
              "      display: none;\n",
              "      fill: #1967D2;\n",
              "      height: 32px;\n",
              "      padding: 0 0 0 0;\n",
              "      width: 32px;\n",
              "    }\n",
              "\n",
              "    .colab-df-convert:hover {\n",
              "      background-color: #E2EBFA;\n",
              "      box-shadow: 0px 1px 2px rgba(60, 64, 67, 0.3), 0px 1px 3px 1px rgba(60, 64, 67, 0.15);\n",
              "      fill: #174EA6;\n",
              "    }\n",
              "\n",
              "    [theme=dark] .colab-df-convert {\n",
              "      background-color: #3B4455;\n",
              "      fill: #D2E3FC;\n",
              "    }\n",
              "\n",
              "    [theme=dark] .colab-df-convert:hover {\n",
              "      background-color: #434B5C;\n",
              "      box-shadow: 0px 1px 3px 1px rgba(0, 0, 0, 0.15);\n",
              "      filter: drop-shadow(0px 1px 2px rgba(0, 0, 0, 0.3));\n",
              "      fill: #FFFFFF;\n",
              "    }\n",
              "  </style>\n",
              "\n",
              "      <script>\n",
              "        const buttonEl =\n",
              "          document.querySelector('#df-4b4d4a9a-8090-43dc-9339-ce525317da72 button.colab-df-convert');\n",
              "        buttonEl.style.display =\n",
              "          google.colab.kernel.accessAllowed ? 'block' : 'none';\n",
              "\n",
              "        async function convertToInteractive(key) {\n",
              "          const element = document.querySelector('#df-4b4d4a9a-8090-43dc-9339-ce525317da72');\n",
              "          const dataTable =\n",
              "            await google.colab.kernel.invokeFunction('convertToInteractive',\n",
              "                                                     [key], {});\n",
              "          if (!dataTable) return;\n",
              "\n",
              "          const docLinkHtml = 'Like what you see? Visit the ' +\n",
              "            '<a target=\"_blank\" href=https://colab.research.google.com/notebooks/data_table.ipynb>data table notebook</a>'\n",
              "            + ' to learn more about interactive tables.';\n",
              "          element.innerHTML = '';\n",
              "          dataTable['output_type'] = 'display_data';\n",
              "          await google.colab.output.renderOutput(dataTable, element);\n",
              "          const docLink = document.createElement('div');\n",
              "          docLink.innerHTML = docLinkHtml;\n",
              "          element.appendChild(docLink);\n",
              "        }\n",
              "      </script>\n",
              "    </div>\n",
              "  </div>\n",
              "  "
            ]
          },
          "metadata": {},
          "execution_count": 10
        }
      ]
    },
    {
      "cell_type": "markdown",
      "source": [
        "# **Create Vocuabaly of English and Spanish words**"
      ],
      "metadata": {
        "id": "1ZA4ptxbbS2B"
      }
    },
    {
      "cell_type": "code",
      "source": [
        "English_words = set()\n",
        "for English in data.English:\n",
        "    for word in English.split():\n",
        "        if word not in English_words:\n",
        "            English_words.add(word)\n",
        "\n",
        "\n",
        "Spanish_words=set()\n",
        "for Spanish in data.Spanish:\n",
        "    for word in Spanish.split():\n",
        "        if word not in Spanish_words:\n",
        "            Spanish_words.add(word)\n",
        "\n",
        "\n",
        "English_words = sorted(list(English_words))\n",
        "Spanish_words = sorted(list(Spanish_words))"
      ],
      "metadata": {
        "id": "84A9_3bOgLUp"
      },
      "execution_count": 11,
      "outputs": []
    },
    {
      "cell_type": "markdown",
      "source": [
        "# **Maximum length for padding**"
      ],
      "metadata": {
        "id": "vXuI1AGwbaF1"
      }
    },
    {
      "cell_type": "code",
      "source": [
        "English_length_list=[]\n",
        "for sentence in data.English:\n",
        "    English_length_list.append(len(sentence.split(' ')))\n",
        "max_English_length= max(English_length_list)\n",
        "print(\" Max length of the English sentence\",max_English_length)\n",
        "\n",
        "Spanish_length_list=[]\n",
        "for sentence in data.Spanish:\n",
        "    Spanish_length_list.append(len(sentence.split(' ')))\n",
        "max_Spanish_length= max(Spanish_length_list)\n",
        "print(\" Max length of the Spanish sentence\",max_Spanish_length)"
      ],
      "metadata": {
        "colab": {
          "base_uri": "https://localhost:8080/"
        },
        "id": "3peHO_mRgbpO",
        "outputId": "dba4b963-4914-47a4-d90b-dd74fbc16145"
      },
      "execution_count": 12,
      "outputs": [
        {
          "output_type": "stream",
          "name": "stdout",
          "text": [
            " Max length of the English sentence 70\n",
            " Max length of the Spanish sentence 70\n"
          ]
        }
      ]
    },
    {
      "cell_type": "markdown",
      "source": [
        "# **Word to index and vice versa dictionary**"
      ],
      "metadata": {
        "id": "ksbbWQCvbl4a"
      }
    },
    {
      "cell_type": "code",
      "source": [
        "English_word2idx = dict([(word, index+1) for index, word in enumerate(English_words)])\n",
        "Spanish_word2idx = dict([(word, index+1) for index, word in enumerate(Spanish_words)])\n",
        "vocab_size_Spanish = len(Spanish_word2idx) + 1"
      ],
      "metadata": {
        "id": "o9z_Z5UOghD8"
      },
      "execution_count": 13,
      "outputs": []
    },
    {
      "cell_type": "code",
      "source": [
        "English_idx2word = dict([(index, word) for word, index in  English_word2idx.items()])\n",
        "Spanish_idx2word = dict([(index, word) for word, index in Spanish_word2idx.items()])\n",
        "\n",
        "# print(English_idx2word, Spanish_idx2word)"
      ],
      "metadata": {
        "id": "ra3QHhJbhSn1"
      },
      "execution_count": 14,
      "outputs": []
    },
    {
      "cell_type": "markdown",
      "source": [
        "# **Shuffle the data to get randomness**"
      ],
      "metadata": {
        "id": "QQHBAA-dbsei"
      }
    },
    {
      "cell_type": "code",
      "source": [
        "#Shuffle the data\n",
        "data = shuffle(data)"
      ],
      "metadata": {
        "id": "bTZKY29JhVg7"
      },
      "execution_count": 15,
      "outputs": []
    },
    {
      "cell_type": "markdown",
      "source": [
        "# **Split into train and test**"
      ],
      "metadata": {
        "id": "jov3GYYQbxES"
      }
    },
    {
      "cell_type": "code",
      "source": [
        "x, y = data.English, data.Spanish\n",
        "x_train, x_test, y_train, y_test = train_test_split(x, y, test_size = 0.1)\n",
        "x_train.shape, x_test.shape"
      ],
      "metadata": {
        "colab": {
          "base_uri": "https://localhost:8080/"
        },
        "id": "AtX3sMoPhXSi",
        "outputId": "67947a08-4cb0-4707-de3c-f557a6f286e8"
      },
      "execution_count": 16,
      "outputs": [
        {
          "output_type": "execute_result",
          "data": {
            "text/plain": [
              "((124596,), (13844,))"
            ]
          },
          "metadata": {},
          "execution_count": 16
        }
      ]
    },
    {
      "cell_type": "code",
      "source": [
        "num_encoder_tokens = len(English_words)\n",
        "num_decoder_tokens = len(Spanish_words) + 1"
      ],
      "metadata": {
        "id": "0ebclI0rha06"
      },
      "execution_count": 17,
      "outputs": []
    },
    {
      "cell_type": "markdown",
      "source": [
        "# **Function to generate batches of data**"
      ],
      "metadata": {
        "id": "DYQxZdRvb5vA"
      }
    },
    {
      "cell_type": "code",
      "source": [
        "def generate_batch(X = x_train, y = y_train, batch_size = 128):\n",
        "    ''' Generate a batch of data '''\n",
        "    while True:\n",
        "        for batches in range(0, len(X), batch_size):\n",
        "            encoder_input_data = np.zeros((batch_size, max_English_length),dtype='float32')\n",
        "            decoder_input_data = np.zeros((batch_size, max_Spanish_length),dtype='float32')\n",
        "            decoder_Spanish_data = np.zeros((batch_size, max_Spanish_length, num_decoder_tokens),dtype='float32')\n",
        "            for i, (input_text, Spanish_text) in enumerate(zip(X[batches:batches+batch_size], y[batches:batches+batch_size])):\n",
        "                for t, word in enumerate(input_text.split()):\n",
        "                  encoder_input_data[i, t] = English_word2idx[word] \n",
        "                for t, word in enumerate(Spanish_text.split()):\n",
        "                    if t<len(Spanish_text.split())-1:\n",
        "                        decoder_input_data[i, t] = Spanish_word2idx[word]\n",
        "                    if t>0:\n",
        "                        decoder_Spanish_data[i, t - 1, Spanish_word2idx[word]] = 1.\n",
        "                    \n",
        "            yield([encoder_input_data, decoder_input_data], decoder_Spanish_data)"
      ],
      "metadata": {
        "id": "w8h6yRnEhioT"
      },
      "execution_count": 18,
      "outputs": []
    },
    {
      "cell_type": "code",
      "source": [
        "latent_dim = 256 # number of nodes in NN"
      ],
      "metadata": {
        "id": "NEGMOnla2yiv"
      },
      "execution_count": 19,
      "outputs": []
    },
    {
      "cell_type": "markdown",
      "source": [
        "# **Set up the encoder input and LSTM architecture**"
      ],
      "metadata": {
        "id": "Rs66b4cCcCFK"
      }
    },
    {
      "cell_type": "code",
      "source": [
        "encoder_inputs = Input(shape=(None,))\n",
        "enc_emb =  Embedding(num_encoder_tokens, latent_dim, mask_zero = True)(encoder_inputs)\n",
        "\n",
        "\n",
        "encoder_lstm1 = LSTM(latent_dim, return_sequences=True, return_state=True)\n",
        "encoder_output1, state_h1, state_c1 = encoder_lstm1(enc_emb)\n",
        "\n",
        "encoder_lstm2 = LSTM(latent_dim, return_sequences=True, return_state=True)\n",
        "encoder_output2, state_h2, state_c2 = encoder_lstm2(encoder_output1)\n",
        "\n",
        "encoder_lstm3 = LSTM(latent_dim, return_state=True, return_sequences=True)\n",
        "encoder_outputs, state_h, state_c = encoder_lstm3(encoder_output2)\n",
        "\n",
        "encoder_states = [state_h, state_c]"
      ],
      "metadata": {
        "id": "rkDPYjAaiH6e"
      },
      "execution_count": 20,
      "outputs": []
    },
    {
      "cell_type": "markdown",
      "source": [
        "# **The decoder architecture to follow**"
      ],
      "metadata": {
        "id": "v03YEEohcI-2"
      }
    },
    {
      "cell_type": "code",
      "source": [
        "decoder_inputs = Input(shape=(None,))\n",
        "dec_emb_layer = Embedding(num_decoder_tokens, latent_dim, mask_zero = True)\n",
        "dec_emb = dec_emb_layer(decoder_inputs)\n",
        "\n",
        "decoder_lstm = LSTM(latent_dim, return_sequences=True, return_state=True)\n",
        "decoder_outputs, _, _ = decoder_lstm(dec_emb, initial_state=encoder_states)\n",
        "decoder_dense = Dense(num_decoder_tokens, activation='softmax')\n",
        "decoder_outputs = decoder_dense(decoder_outputs)"
      ],
      "metadata": {
        "id": "u5tmZ9TiiJvM"
      },
      "execution_count": 21,
      "outputs": []
    },
    {
      "cell_type": "code",
      "source": [
        "decoder_outputs"
      ],
      "metadata": {
        "colab": {
          "base_uri": "https://localhost:8080/"
        },
        "id": "3WUtAJxEedbr",
        "outputId": "b8f70574-8205-48c7-b12c-a6538aa48c29"
      },
      "execution_count": 22,
      "outputs": [
        {
          "output_type": "execute_result",
          "data": {
            "text/plain": [
              "<KerasTensor: shape=(None, None, 28735) dtype=float32 (created by layer 'dense')>"
            ]
          },
          "metadata": {},
          "execution_count": 22
        }
      ]
    },
    {
      "cell_type": "markdown",
      "source": [
        "# **Concatenate with attention layer**"
      ],
      "metadata": {
        "id": "o021CrwVcSG6"
      }
    },
    {
      "cell_type": "code",
      "source": [
        "# from tensorflow.keras.layers import AdditiveAttention, Concatenate, TimeDistributed"
      ],
      "metadata": {
        "id": "oDNkDAW7SKp9"
      },
      "execution_count": 23,
      "outputs": []
    },
    {
      "cell_type": "code",
      "source": [
        "encoder_outputs, decoder_outputs"
      ],
      "metadata": {
        "colab": {
          "base_uri": "https://localhost:8080/"
        },
        "id": "kbVlPW2Wd3M1",
        "outputId": "e0f795c6-372a-44d4-8b15-40860d74775c"
      },
      "execution_count": 24,
      "outputs": [
        {
          "output_type": "execute_result",
          "data": {
            "text/plain": [
              "(<KerasTensor: shape=(None, None, 256) dtype=float32 (created by layer 'lstm_2')>,\n",
              " <KerasTensor: shape=(None, None, 28735) dtype=float32 (created by layer 'dense')>)"
            ]
          },
          "metadata": {},
          "execution_count": 24
        }
      ]
    },
    {
      "cell_type": "code",
      "source": [
        "# attention_result = AdditiveAttention(use_scale=True)([encoder_outputs, decoder_outputs])\n",
        "\n",
        "# decoder_concat_input = Concatenate(axis=-1, name='concat_layer')([decoder_outputs, attention_result])"
      ],
      "metadata": {
        "id": "AmS9sa5kSPGu"
      },
      "execution_count": 25,
      "outputs": []
    },
    {
      "cell_type": "code",
      "source": [
        "# decoder_dense = Dense(num_decoder_tokens, activation='softmax')\n",
        "# decoder_outputs = decoder_dense(decoder_outputs)"
      ],
      "metadata": {
        "id": "IthGTat3Q4OQ"
      },
      "execution_count": 26,
      "outputs": []
    },
    {
      "cell_type": "code",
      "source": [
        "# decoder_dense = TimeDistributed(Dense(vocab_size_Spanish, activation= 'softmax'))\n",
        "# decoder_outputs = decoder_dense(decoder_concat_input)"
      ],
      "metadata": {
        "id": "DDiIxzVbSSuX"
      },
      "execution_count": 27,
      "outputs": []
    },
    {
      "cell_type": "markdown",
      "source": [
        "# **Defining the model**"
      ],
      "metadata": {
        "id": "T9wcDbYkca46"
      }
    },
    {
      "cell_type": "code",
      "source": [
        "model = Model([encoder_inputs, decoder_inputs], decoder_outputs)"
      ],
      "metadata": {
        "id": "Gb5X7Il8iMoN"
      },
      "execution_count": 28,
      "outputs": []
    },
    {
      "cell_type": "code",
      "source": [
        "model.compile(optimizer='Adam', loss='categorical_crossentropy', metrics=['acc'])"
      ],
      "metadata": {
        "id": "5_xOwGBQiQMl"
      },
      "execution_count": 29,
      "outputs": []
    },
    {
      "cell_type": "code",
      "source": [
        "import tensorflow as tf"
      ],
      "metadata": {
        "id": "44yEn96D4WvE"
      },
      "execution_count": 30,
      "outputs": []
    },
    {
      "cell_type": "code",
      "source": [
        "tf.keras.utils.plot_model(model, to_file = \"model.png\", show_shapes = True)"
      ],
      "metadata": {
        "colab": {
          "base_uri": "https://localhost:8080/",
          "height": 703
        },
        "id": "tSPp733P2cqE",
        "outputId": "4f1fcbfe-769b-4bce-a03d-860725083108"
      },
      "execution_count": 31,
      "outputs": [
        {
          "output_type": "execute_result",
          "data": {
            "text/plain": [
              "<IPython.core.display.Image object>"
            ],
            "image/png": "[encoded data removed]"
          },
          "metadata": {},
          "execution_count": 31
        }
      ]
    },
    {
      "cell_type": "code",
      "source": [
        "train_samples = len(x_train)\n",
        "val_samples = len(x_test)\n",
        "batch_size = 128\n",
        "epochs = 12"
      ],
      "metadata": {
        "id": "mEbDQdvaiSCu"
      },
      "execution_count": 32,
      "outputs": []
    },
    {
      "cell_type": "markdown",
      "source": [
        "# **Training the model**"
      ],
      "metadata": {
        "id": "DqgqRVbucgTO"
      }
    },
    {
      "cell_type": "code",
      "source": [
        "# model.fit_generator(generator = generate_batch(x_train, y_train, batch_size = batch_size),\n",
        "#                     steps_per_epoch = train_samples//batch_size,\n",
        "#                     epochs=epochs,\n",
        "#                     validation_data = generate_batch(x_test, y_test, batch_size = batch_size),\n",
        "#                     validation_steps = val_samples//batch_size)"
      ],
      "metadata": {
        "id": "2zi_u5otiexj"
      },
      "execution_count": 33,
      "outputs": []
    },
    {
      "cell_type": "markdown",
      "source": [
        "# **Saving the h5 file**"
      ],
      "metadata": {
        "id": "SURthCeIc4iO"
      }
    },
    {
      "cell_type": "code",
      "source": [
        "# model.save_weights('nmt_weights_12epoch.h5')"
      ],
      "metadata": {
        "id": "uyfhiU4Xj7H-"
      },
      "execution_count": 34,
      "outputs": []
    },
    {
      "cell_type": "code",
      "source": [
        "model.load_weights('nmt_weights_12epochs.h5')"
      ],
      "metadata": {
        "id": "c2s0RQ3Zj9rA"
      },
      "execution_count": 36,
      "outputs": []
    },
    {
      "cell_type": "markdown",
      "source": [
        "# **The inference set up**"
      ],
      "metadata": {
        "id": "KEG4GnhIc9GO"
      }
    },
    {
      "cell_type": "code",
      "source": [
        "encoder_model = Model(encoder_inputs, encoder_states)\n",
        "\n",
        "decoder_state_input_h = Input(shape=(latent_dim,))\n",
        "decoder_state_input_c = Input(shape=(latent_dim,))\n",
        "decoder_state_input = [decoder_state_input_h, decoder_state_input_c]\n",
        "\n",
        "dec_emb2 = dec_emb_layer(decoder_inputs)\n",
        "\n",
        "decoder_outputs2, state_h2, state_c2 = decoder_lstm(dec_emb2, initial_state=decoder_state_input)\n",
        "decoder_states2 = [state_h2, state_c2]\n",
        "\n",
        "decoder_outputs2 = decoder_dense(decoder_outputs2)\n",
        "\n",
        "decoder_model = Model([decoder_inputs] + decoder_state_input, [decoder_outputs2] + decoder_states2)"
      ],
      "metadata": {
        "id": "1lU6mh6Zimrs"
      },
      "execution_count": 37,
      "outputs": []
    },
    {
      "cell_type": "markdown",
      "source": [
        "# **Decoding the numerical value into text**"
      ],
      "metadata": {
        "id": "3Sy9ABaygA2D"
      }
    },
    {
      "cell_type": "code",
      "source": [
        "def decode_sequence(input_seq):\n",
        "  \n",
        "    states_value = encoder_model.predict(input_seq)\n",
        "    \n",
        "    Spanish_seq = np.zeros((1,1))\n",
        "    \n",
        "    Spanish_seq[0, 0] = Spanish_word2idx['START_']\n",
        "    \n",
        "    stop_condition = False\n",
        "    decoded_sentence = ''\n",
        "    while not stop_condition:\n",
        "        output_tokens, h, c = decoder_model.predict([Spanish_seq] + states_value)\n",
        "        \n",
        "        sampled_token_index = np.argmax(output_tokens[0, -1, :])\n",
        "        sampled_word =Spanish_idx2word[sampled_token_index]\n",
        "        decoded_sentence += ' '+ sampled_word\n",
        "        \n",
        "        if (sampled_word == '_END' or len(decoded_sentence) > 50):\n",
        "            stop_condition = True\n",
        "            \n",
        "        Spanish_seq = np.zeros((1,1))\n",
        "        Spanish_seq[0, 0] = sampled_token_index\n",
        "        \n",
        "        states_value = [h, c]\n",
        "    return decoded_sentence"
      ],
      "metadata": {
        "id": "l1Pw-PpzjXi5"
      },
      "execution_count": 38,
      "outputs": []
    },
    {
      "cell_type": "markdown",
      "source": [
        "# **Predicting on the training dataset**"
      ],
      "metadata": {
        "id": "VEWFj5WwgEky"
      }
    },
    {
      "cell_type": "code",
      "source": [
        "train_gen = generate_batch(x_train, y_train, batch_size = 1)\n",
        "k=-1"
      ],
      "metadata": {
        "id": "5pZk33TSjacO"
      },
      "execution_count": 39,
      "outputs": []
    },
    {
      "cell_type": "code",
      "source": [
        "k+=1\n",
        "(input_seq, actual_output), _ = next(train_gen)\n",
        "decoded_sentence = decode_sequence(input_seq)\n",
        "\n",
        "print('Input English sentence:', x_train[k:k+1].values[0])\n",
        "print('Actual Spanish Translation:', y_train[k:k+1].values[0][6:-4])\n",
        "print('Predicted Spanish Translation:', decoded_sentence[:-4])"
      ],
      "metadata": {
        "id": "y3s7yzvljcZt",
        "outputId": "fc954507-232f-410f-a158-9c35fcd1286b",
        "colab": {
          "base_uri": "https://localhost:8080/"
        }
      },
      "execution_count": 47,
      "outputs": [
        {
          "output_type": "stream",
          "name": "stdout",
          "text": [
            "Input English sentence: im not sure where tom is from\n",
            "Actual Spanish Translation:  no estoy seguro de dónde viene tom \n",
            "Predicted Spanish Translation:  no estoy seguro de dónde está tom \n"
          ]
        }
      ]
    },
    {
      "cell_type": "markdown",
      "source": [
        "# **Predicting on the custom input sentence**"
      ],
      "metadata": {
        "id": "NRD-L2J-gLAj"
      }
    },
    {
      "cell_type": "code",
      "source": [
        "infer_sentence= \"how are you\"\n",
        "input_sentence = np.zeros((1, max_English_length),dtype='float32')\n",
        "for t, word in enumerate(infer_sentence.split()):\n",
        "  input_sentence[0, t] = English_word2idx[word]\n",
        "decoded_sentence = decode_sequence(input_sentence)\n",
        "print(decoded_sentence[:-4])"
      ],
      "metadata": {
        "id": "m7imKhgeVI0h",
        "outputId": "f0e2c21b-7cb1-4f66-90d7-9eb2b67ca261",
        "colab": {
          "base_uri": "https://localhost:8080/"
        }
      },
      "execution_count": 41,
      "outputs": [
        {
          "output_type": "stream",
          "name": "stdout",
          "text": [
            " ¿cómo estás \n"
          ]
        }
      ]
    },
    {
      "cell_type": "markdown",
      "source": [
        "# **Predicting on the custom sentence**"
      ],
      "metadata": {
        "id": "8A56suy6Ssqa"
      }
    },
    {
      "cell_type": "code",
      "source": [
        "!pip install -q gradio"
      ],
      "metadata": {
        "id": "PkPd9NbHseZp",
        "colab": {
          "base_uri": "https://localhost:8080/"
        },
        "outputId": "2e6b9d0c-3946-495f-bc13-1632bc70e225"
      },
      "execution_count": 42,
      "outputs": [
        {
          "output_type": "stream",
          "name": "stdout",
          "text": [
            "\u001b[K     |████████████████████████████████| 5.6 MB 3.3 MB/s \n",
            "\u001b[K     |████████████████████████████████| 1.1 MB 50.8 MB/s \n",
            "\u001b[K     |████████████████████████████████| 84 kB 3.8 MB/s \n",
            "\u001b[K     |████████████████████████████████| 54 kB 3.6 MB/s \n",
            "\u001b[K     |████████████████████████████████| 84 kB 4.4 MB/s \n",
            "\u001b[K     |████████████████████████████████| 212 kB 47.1 MB/s \n",
            "\u001b[K     |████████████████████████████████| 2.3 MB 44.5 MB/s \n",
            "\u001b[K     |████████████████████████████████| 54 kB 3.1 MB/s \n",
            "\u001b[K     |████████████████████████████████| 57 kB 6.4 MB/s \n",
            "\u001b[K     |████████████████████████████████| 140 kB 52.7 MB/s \n",
            "\u001b[K     |████████████████████████████████| 272 kB 44.9 MB/s \n",
            "\u001b[K     |████████████████████████████████| 144 kB 57.2 MB/s \n",
            "\u001b[K     |████████████████████████████████| 271 kB 69.9 MB/s \n",
            "\u001b[K     |████████████████████████████████| 94 kB 4.4 MB/s \n",
            "\u001b[K     |████████████████████████████████| 63 kB 2.5 MB/s \n",
            "\u001b[K     |████████████████████████████████| 80 kB 11.4 MB/s \n",
            "\u001b[K     |████████████████████████████████| 68 kB 8.5 MB/s \n",
            "\u001b[K     |████████████████████████████████| 43 kB 2.7 MB/s \n",
            "\u001b[K     |████████████████████████████████| 62 kB 1.0 MB/s \n",
            "\u001b[K     |████████████████████████████████| 4.1 MB 43.6 MB/s \n",
            "\u001b[K     |████████████████████████████████| 856 kB 53.4 MB/s \n",
            "\u001b[?25h  Building wheel for ffmpy (setup.py) ... \u001b[?25l\u001b[?25hdone\n",
            "  Building wheel for python-multipart (setup.py) ... \u001b[?25l\u001b[?25hdone\n"
          ]
        }
      ]
    },
    {
      "cell_type": "code",
      "source": [
        "import gradio as gr"
      ],
      "metadata": {
        "id": "7wtnvx_9tjFj"
      },
      "execution_count": 43,
      "outputs": []
    },
    {
      "cell_type": "code",
      "source": [
        "def translator(English_sentence):\n",
        "  input_sentence = np.zeros((1, max_English_length),dtype='float32')\n",
        "  for t, word in enumerate(English_sentence.split()):\n",
        "    input_sentence[0, t] = English_word2idx[word]\n",
        "  decoded_sentence = decode_sequence(input_sentence)\n",
        "  return decoded_sentence[:-4]"
      ],
      "metadata": {
        "id": "79kJhlyNtl1V"
      },
      "execution_count": 44,
      "outputs": []
    },
    {
      "cell_type": "code",
      "source": [
        "translate_interface = gr.Interface(\n",
        "    fn = translator,\n",
        "    inputs = \"text\",\n",
        "    outputs = \"text\",\n",
        "    title = \"English to Spanish Translation\"\n",
        ")"
      ],
      "metadata": {
        "id": "VqZqMFf7t-cK"
      },
      "execution_count": 45,
      "outputs": []
    },
    {
      "cell_type": "code",
      "source": [
        "translate_interface.launch(debug=False)"
      ],
      "metadata": {
        "colab": {
          "base_uri": "https://localhost:8080/",
          "height": 643
        },
        "id": "FQxpSwQfuENd",
        "outputId": "2eaf9c3e-4b88-444c-c2b8-fedeabded894"
      },
      "execution_count": 46,
      "outputs": [
        {
          "output_type": "stream",
          "name": "stdout",
          "text": [
            "Colab notebook detected. To show errors in colab notebook, set `debug=True` in `launch()`\n",
            "Running on public URL: https://30124.gradio.app\n",
            "\n",
            "This share link expires in 72 hours. For free permanent hosting, check out Spaces: https://huggingface.co/spaces\n"
          ]
        },
        {
          "output_type": "display_data",
          "data": {
            "text/plain": [
              "<IPython.core.display.HTML object>"
            ],
            "text/html": [
              "<div><iframe src=\"https://30124.gradio.app\" width=\"900\" height=\"500\" allow=\"autoplay; camera; microphone;\" frameborder=\"0\" allowfullscreen></iframe></div>"
            ]
          },
          "metadata": {}
        },
        {
          "output_type": "execute_result",
          "data": {
            "text/plain": [
              "(<gradio.routes.App at 0x7fc3e77c52d0>,\n",
              " 'http://127.0.0.1:7860/',\n",
              " 'https://30124.gradio.app')"
            ]
          },
          "metadata": {},
          "execution_count": 46
        }
      ]
    }
  ]
}